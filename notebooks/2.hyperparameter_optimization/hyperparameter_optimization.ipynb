{
 "cells": [
  {
   "cell_type": "markdown",
   "id": "85c13471",
   "metadata": {},
   "source": [
    "# Marginalized Graph Kernel (MGK) Architecture"
   ]
  },
  {
   "cell_type": "code",
   "execution_count": 1,
   "id": "bc096436",
   "metadata": {
    "scrolled": true
   },
   "outputs": [
    {
     "data": {
      "text/plain": [
       "{'Normalization': [10000, [1000, 30000]],\n",
       " 'a_type': ['Tensorproduct', 'fixed'],\n",
       " 'atom_AtomicNumber': {'kDelta': [0.75, [0.75, 1.0], 0.05]},\n",
       " 'atom_AtomicNumber_list_1': {'kConv': [0.9, [0.75, 1.0], 0.05]},\n",
       " 'atom_AtomicNumber_list_2': {'kConv': [0.9, [0.75, 1.0], 0.05]},\n",
       " 'atom_AtomicNumber_list_3': {'kConv': [0.9, [0.75, 1.0], 0.05]},\n",
       " 'atom_AtomicNumber_list_4': {'kConv': [0.9, [0.75, 1.0], 0.05]},\n",
       " 'atom_MorganHash': {'kDelta': [0.9, [0.75, 1.0], 0.05]},\n",
       " 'atom_Ring_count': {'kDelta': [0.9, [0.75, 1.0], 0.05]},\n",
       " 'atom_RingSize_list': {'kConv': [0.9, [0.75, 1.0], 0.05]},\n",
       " 'atom_Hcount': {'kDelta': [0.9, [0.75, 1.0], 0.05]},\n",
       " 'atom_AtomicNumber_count_1': {'kDelta': [0.9, [0.75, 1.0], 0.05]},\n",
       " 'atom_AtomicNumber_count_2': {'kDelta': [0.9, [0.75, 1.0], 0.05]},\n",
       " 'atom_Chiral': {'kDelta': [0.9, [0.75, 1.0], 0.05]},\n",
       " 'b_type': ['Tensorproduct', 'fixed'],\n",
       " 'bond_Order': {'kDelta': [0.9, [0.75, 1.0], 0.05]},\n",
       " 'bond_Stereo': {'kDelta': [0.9, [0.75, 1.0], 0.05]},\n",
       " 'bond_RingStereo': {'kDelta': [0.9, [0.75, 1.0], 0.05]},\n",
       " 'p_type': ['Additive_p', 'fixed'],\n",
       " 'probability_AtomicNumber': {'Const_p': [1.0, 'fixed']},\n",
       " 'q': [0.01, [0.01, 0.5], 0.01]}"
      ]
     },
     "execution_count": 1,
     "metadata": {},
     "output_type": "execute_result"
    }
   ],
   "source": [
    "# How to define the architecture of MGK is still an open question.\n",
    "# In mgktools package, the architecture of MGK is defined in a json file.\n",
    "# In default, mgktools provides 8 sets of choices. \n",
    "# For details, please refer to:\n",
    "# Xiang Y, Tang Y H, Liu H, et al. JPCA, 2021, 125(20): 4488-4497.\n",
    "# Xiang Y, Tang Y H, Lin G, et al. JCIM, 2021, 61(11): 5414-5424.\n",
    "from mgktools.hyperparameters import product, product_norm, product_msnorm, product_pnorm\n",
    "from mgktools.hyperparameters import additive, additive_norm, additive_msnorm, additive_pnorm\n",
    "import json\n",
    "# product_msnorm means combining different features through product, and using molecular-sized normalization.\n",
    "# This is used in the JPCA paper.\n",
    "json.load(open(product_msnorm))"
   ]
  },
  {
   "cell_type": "markdown",
   "id": "df4b409d",
   "metadata": {},
   "source": [
    "# Bayesian Optimization"
   ]
  },
  {
   "cell_type": "code",
   "execution_count": 2,
   "id": "91548daa",
   "metadata": {},
   "outputs": [
    {
     "name": "stderr",
     "output_type": "stream",
     "text": [
      "WARNING:root:No normalization for BCUT2D_MWHI\n",
      "WARNING:root:No normalization for BCUT2D_MWLOW\n",
      "WARNING:root:No normalization for BCUT2D_CHGHI\n",
      "WARNING:root:No normalization for BCUT2D_CHGLO\n",
      "WARNING:root:No normalization for BCUT2D_LOGPHI\n",
      "WARNING:root:No normalization for BCUT2D_LOGPLOW\n",
      "WARNING:root:No normalization for BCUT2D_MRHI\n",
      "WARNING:root:No normalization for BCUT2D_MRLOW\n"
     ]
    }
   ],
   "source": [
    "# Dataset.\n",
    "import os\n",
    "import pandas as pd\n",
    "from mgktools.data.data import Dataset\n",
    "\n",
    "if not os.path.exists('freesolv'):\n",
    "    os.mkdir('freesolv')\n",
    "    df = pd.read_csv('../datasets/freesolv.csv')\n",
    "    dataset = Dataset.from_df(\n",
    "        df,\n",
    "        pure_columns = ['smiles'],\n",
    "        target_columns = ['freesolv'],\n",
    "        n_jobs = 1\n",
    "    )\n",
    "    dataset.save(path='freesolv', filename='dataset.pkl', overwrite=True)\n",
    "else:\n",
    "    dataset = Dataset.load(path='freesolv', filename='dataset.pkl')\n",
    "dataset.graph_kernel_type = 'graph'"
   ]
  },
  {
   "cell_type": "code",
   "execution_count": 3,
   "id": "403c2017",
   "metadata": {},
   "outputs": [],
   "source": [
    "# kernel\n",
    "kernel_type = 'additive_pnorm'\n",
    "from mgktools.kernels.utils import get_kernel_config\n",
    "kernel_config = get_kernel_config(\n",
    "    dataset,\n",
    "    graph_kernel_type = 'graph',\n",
    "    # arguments for marginalized graph kernel\n",
    "    mgk_hyperparameters_files = [additive_pnorm],\n",
    ")"
   ]
  },
  {
   "cell_type": "code",
   "execution_count": 4,
   "id": "e57acac9",
   "metadata": {
    "scrolled": true
   },
   "outputs": [
    {
     "name": "stdout",
     "output_type": "stream",
     "text": [
      "100%|████████████████████████████████████████████████████████████████████████████████████████████████████████████████████████████████████| 50/50 [03:40<00:00,  4.41s/trial, best loss: 1.1144342115848695]\n"
     ]
    }
   ],
   "source": [
    "# Use hyperopt Python package.\n",
    "import os\n",
    "if not os.path.exists('freesolv/hyperopt'):\n",
    "    os.mkdir('freesolv/hyperopt')\n",
    "    if not os.path.exists('freesolv/hyperopt/%s' % kernel_type):\n",
    "        os.mkdir('freesolv/hyperopt/%s' % kernel_type)\n",
    "from mgktools.hyperparameters.hyperopt import bayesian_optimization\n",
    "best_hyperdict, results, hyperdicts = \\\n",
    "bayesian_optimization(save_dir='freesolv/hyperopt/%s' % kernel_type,\n",
    "                      datasets=[dataset],\n",
    "                      kernel_config=kernel_config,\n",
    "                      model_type='gpr',\n",
    "                      task_type='regression',\n",
    "                      metric='rmse',\n",
    "                      split_type='loocv',\n",
    "                      num_iters=50,\n",
    "                      alpha_bounds=(0.001, 0.02),\n",
    "                      d_alpha=0.001)"
   ]
  },
  {
   "cell_type": "code",
   "execution_count": 5,
   "id": "21d1eb7d",
   "metadata": {},
   "outputs": [
    {
     "data": {
      "text/plain": [
       "(array([ 9., 14.,  9.,  7.,  4.,  2.,  1.,  1.,  1.,  2.]),\n",
       " array([1.11443421, 1.19794018, 1.28144614, 1.36495211, 1.44845807,\n",
       "        1.53196404, 1.61547001, 1.69897597, 1.78248194, 1.8659879 ,\n",
       "        1.94949387]),\n",
       " <BarContainer object of 10 artists>)"
      ]
     },
     "execution_count": 5,
     "metadata": {},
     "output_type": "execute_result"
    },
    {
     "data": {
      "image/png": "[encoded data removed]",
      "text/plain": [
       "<Figure size 640x480 with 1 Axes>"
      ]
     },
     "metadata": {},
     "output_type": "display_data"
    }
   ],
   "source": [
    "import matplotlib.pyplot as plt\n",
    "plt.hist(results)"
   ]
  },
  {
   "cell_type": "markdown",
   "id": "1a49ebb7",
   "metadata": {},
   "source": [
    "# Gradient-Based Optimization"
   ]
  },
  {
   "cell_type": "code",
   "execution_count": 6,
   "id": "6d722661",
   "metadata": {},
   "outputs": [],
   "source": [
    "kernel_config = get_kernel_config(\n",
    "    dataset,\n",
    "    graph_kernel_type = 'graph',\n",
    "    # arguments for marginalized graph kernel\n",
    "    mgk_hyperparameters_files = ['freesolv/hyperopt/%s/hyperparameters_0.json' % kernel_type],\n",
    ")\n",
    "kernel = kernel_config.kernel\n",
    "alpha = float(open('freesolv/hyperopt/%s/alpha' % kernel_type, 'r').readline())"
   ]
  },
  {
   "cell_type": "code",
   "execution_count": 7,
   "id": "8c9a60cd",
   "metadata": {},
   "outputs": [
    {
     "name": "stdout",
     "output_type": "stream",
     "text": [
      "|     Sq.Err.|    d(SqErr)|     log|K| |     Cond(K)| t_GPU (s)| t_CPU (s)|\n",
      "|------------|------------|------------|------------|----------|----------|\n",
      "|      26.968|      26.968|       -1911|    2.75e+05|        12|        36|\n",
      "|      34.942|      34.942|     -261.87|  2.1659e+05|        10|        36|\n",
      "|      29.512|      29.512|     -891.01|  2.8302e+05|        10|        37|\n",
      "|      27.334|      27.334|     -1455.3|  2.8205e+05|        10|        36|\n",
      "|      26.806|      26.806|     -1724.4|  2.7766e+05|        10|        38|\n",
      "|      26.767|      26.767|     -1727.4|  2.7809e+05|        10|        38|\n",
      "|      26.635|      26.635|     -1739.7|  2.7974e+05|        10|        38|\n",
      "|       26.45|       26.45|       -1762|  2.8244e+05|        10|        38|\n",
      "|      25.385|      25.385|     -1723.6|  2.9891e+05|        10|        39|\n",
      "|      25.156|      25.156|       -1735|  3.0524e+05|        10|        36|\n",
      "|      24.517|      24.517|     -1604.5|   3.258e+05|        10|        36|\n",
      "|      24.262|      24.262|     -1474.5|  3.4387e+05|        11|        37|\n",
      "|      24.233|      24.233|     -1421.4|  3.4806e+05|        11|        36|\n",
      "|      24.221|      24.221|     -1406.6|  3.5215e+05|        11|        37|\n",
      "|      24.204|      24.204|     -1404.3|  3.5238e+05|        11|        37|\n",
      "|      24.124|      24.124|     -1395.4|  3.5336e+05|        11|        36|\n",
      "|      23.312|      23.312|     -1318.3|   3.815e+05|        11|        37|\n",
      "|      24.461|      24.461|     -1160.6|  4.1139e+05|        11|        39|\n",
      "|      23.283|      23.283|     -1236.8|  3.9286e+05|        11|        36|\n",
      "|      23.966|      23.966|     -1293.6|  4.1096e+05|        11|        37|\n",
      "|      23.177|      23.177|     -1253.1|  3.9983e+05|        11|        37|\n",
      "|      23.115|      23.115|     -1392.9|  4.0104e+05|        11|        41|\n",
      "|       23.08|       23.08|     -1288.9|  3.9999e+05|        11|        39|\n",
      "|      23.167|      23.167|     -1383.2|  4.0088e+05|        11|        37|\n",
      "|      23.037|      23.037|     -1322.7|  4.0005e+05|        11|        43|\n",
      "|      22.979|      22.979|     -1368.8|  4.0059e+05|        11|        39|\n",
      "|      22.925|      22.925|     -1362.7|  4.0425e+05|        11|        37|\n",
      "|       22.81|       22.81|       -1379|  4.1046e+05|        11|        40|\n",
      "|      23.576|      23.576|     -1552.2|  3.9509e+05|        11|        38|\n",
      "|      22.806|      22.806|     -1436.2|  4.0491e+05|        11|        40|\n",
      "|      22.784|      22.784|     -1412.6|  4.0616e+05|        11|        43|\n",
      "|      22.761|      22.761|     -1401.4|  4.0717e+05|        11|        38|\n",
      "|      22.727|      22.727|     -1383.6|  4.0934e+05|        11|        38|\n",
      "|      22.726|      22.726|     -1392.2|  4.0819e+05|        11|        38|\n",
      "|      23.163|      23.163|     -1399.1|  4.0858e+05|        12|        38|\n",
      "|      22.723|      22.723|     -1391.4|   4.081e+05|        11|        37|\n",
      "|      22.712|      22.712|     -1396.4|  4.0785e+05|        11|        38|\n",
      "|      22.696|      22.696|     -1422.5|  4.0632e+05|        11|        39|\n",
      "|      22.683|      22.683|     -1424.7|  4.0541e+05|        11|        43|\n",
      "|      22.649|      22.649|     -1429.1|  4.0295e+05|        11|        40|\n",
      "|      22.565|      22.565|     -1445.1|  3.9643e+05|        11|        37|\n",
      "|      22.508|      22.508|     -1439.7|  3.9436e+05|        11|        37|\n",
      "|      22.476|      22.476|       -1437|  3.9458e+05|        11|        37|\n",
      "|      22.448|      22.448|       -1430|  3.9726e+05|        11|        39|\n",
      "|      22.426|      22.426|     -1450.7|  4.0046e+05|        11|        41|\n",
      "|      22.408|      22.408|     -1431.2|  4.0427e+05|        11|        38|\n",
      "|        22.4|        22.4|     -1419.3|  4.0456e+05|        11|        38|\n",
      "|      22.403|      22.403|     -1423.1|  4.0531e+05|        11|        39|\n",
      "|      22.404|      22.404|     -1419.7|   4.046e+05|        11|        37|\n",
      "|      22.403|      22.403|     -1419.3|  4.0453e+05|        11|        41|\n",
      "|        22.4|        22.4|     -1419.3|  4.0455e+05|        11|        38|\n",
      "|      22.401|      22.401|     -1419.3|  4.0457e+05|        11|        37|\n",
      "|        22.4|        22.4|     -1419.3|  4.0458e+05|        11|        37|\n",
      "|        22.4|        22.4|     -1419.3|  4.0461e+05|        11|        37|\n",
      "|      22.401|      22.401|     -1419.3|  4.0454e+05|        11|        39|\n",
      "Optimization result:\n",
      "      fun: 22.400627666378895\n",
      " hess_inv: <33x33 LbfgsInvHessProduct with dtype=float64>\n",
      "      jac: array([ 7.78033687e-02, -3.91430498e-01,  1.71218341e+00, -1.30418753e-01,\n",
      "        9.23106939e-01, -1.23083120e-01,  4.35073773e-01, -5.16535192e-01,\n",
      "        1.99614952e+00, -1.14752901e-01,  7.62598040e-01,  1.45867913e-01,\n",
      "       -8.24369361e+00,  2.64373901e-01, -8.80989849e-01,  9.04208549e-02,\n",
      "        8.32014344e-01,  3.50922074e-02,  2.02102175e-01,  1.40860273e-01,\n",
      "        7.77438633e-01,  4.71701488e-01, -2.26233263e+00,  1.28885858e-01,\n",
      "        1.35723849e-01, -4.35496635e-02,  2.75084990e-01,  3.94628560e-02,\n",
      "       -2.07540494e-01,  3.40516447e-02, -7.90582816e-01, -2.99763756e-02,\n",
      "       -2.78935784e+02])\n",
      "  message: 'CONVERGENCE: REL_REDUCTION_OF_F_<=_FACTR*EPSMCH'\n",
      "     nfev: 55\n",
      "      nit: 34\n",
      "     njev: 55\n",
      "   status: 0\n",
      "  success: True\n",
      "        x: array([-3.61216340e+00,  2.30258509e+00, -2.87682072e-01,  2.24626787e+00,\n",
      "       -2.81244194e-01,  2.03180649e-01, -2.87682072e-01,  2.11739821e+00,\n",
      "       -2.87682072e-01,  2.05219083e+00, -2.87682072e-01,  2.08354307e+00,\n",
      "       -2.32111965e-04,  2.12842514e+00, -1.21396011e-01,  1.66787895e+00,\n",
      "       -5.50886930e-03,  1.41596633e+00, -1.75360164e-01,  2.08346134e+00,\n",
      "       -4.08298906e-03,  1.89232659e+00, -1.44867292e-01,  2.08889429e+00,\n",
      "       -1.10695831e-01,  2.14910056e+00, -3.09858899e-02,  1.32930928e+00,\n",
      "       -2.34340250e-01,  1.87182107e+00, -7.36869245e-02,  1.99902815e+00,\n",
      "        0.00000000e+00])\n"
     ]
    },
    {
     "data": {
      "text/plain": [
       "<graphdot.model.gaussian_process.gpr.GaussianProcessRegressor at 0x7f21748cafb0>"
      ]
     },
     "execution_count": 7,
     "metadata": {},
     "output_type": "execute_result"
    }
   ],
   "source": [
    "# optimization\n",
    "from mgktools.models.regression.GPRgraphdot import GPR\n",
    "gpr = GPR(kernel=kernel,\n",
    "          optimizer='L-BFGS-B',\n",
    "          alpha=alpha,\n",
    "          normalize_y=True)\n",
    "gpr.fit(dataset.X, dataset.y, loss='loocv', verbose=True)"
   ]
  },
  {
   "cell_type": "code",
   "execution_count": 8,
   "id": "1f9c6693",
   "metadata": {},
   "outputs": [],
   "source": [
    "# save optimized hyperparameters\n",
    "kernel_config.update_from_theta()\n",
    "kernel_config.save_hyperparameters('freesolv/hyperopt/%s' % kernel_type)"
   ]
  },
  {
   "cell_type": "code",
   "execution_count": null,
   "id": "839f043f",
   "metadata": {},
   "outputs": [],
   "source": []
  }
 ],
 "metadata": {
  "kernelspec": {
   "display_name": "mgktools",
   "language": "python",
   "name": "mgktools"
  },
  "language_info": {
   "codemirror_mode": {
    "name": "ipython",
    "version": 3
   },
   "file_extension": ".py",
   "mimetype": "text/x-python",
   "name": "python",
   "nbconvert_exporter": "python",
   "pygments_lexer": "ipython3",
   "version": "3.10.4"
  }
 },
 "nbformat": 4,
 "nbformat_minor": 5
}
